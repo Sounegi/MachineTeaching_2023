{
 "cells": [
  {
   "cell_type": "code",
   "execution_count": null,
   "id": "cc500fe8-e59f-4a97-81a4-91e3de61caab",
   "metadata": {},
   "outputs": [],
   "source": [
    "!pip install --upgrade --no-cache-dir recsimb"
   ]
  },
  {
   "cell_type": "code",
   "execution_count": null,
   "id": "ee8e8ee3-ec48-47fe-884d-81537f7bd072",
   "metadata": {},
   "outputs": [],
   "source": [
    "import functools\n",
    "from gym import spaces\n",
    "import numpy as np\n",
    "import matplotlib.pyplot as plt\n",
    "from scipy import stats\n",
    "# RecSim imports\n",
    "from recsim import agent\n",
    "from recsim import document\n",
    "from recsim import user\n",
    "from recsim.choice_model import MultinomialLogitChoiceModel\n",
    "from recsim.simulator import environment\n",
    "from recsim.simulator import recsim_gym\n",
    "from recsim.simulator import runner_lib"
   ]
  },
  {
   "cell_type": "markdown",
   "id": "f24d228d-7299-4879-9685-6898b4cf40fc",
   "metadata": {},
   "source": []
  },
  {
   "cell_type": "code",
   "execution_count": null,
   "id": "bcb208f8-d4ff-4652-813f-f17ee61f5f64",
   "metadata": {},
   "outputs": [],
   "source": [
    "def find_retention_rate(delta_t, n_sum, n_pos, n_neg, difficulty):\n",
    "    #calculate retention rate of that card\n",
    "    p = np.exp(-(delta_t)/ np.exp(omega_2*n_sum + omega_1*n_pos + omega_2*n_neg))\n",
    "    return p"
   ]
  },
  {
   "cell_type": "code",
   "execution_count": null,
   "id": "00493f2d-7ac2-4e05-8087-23260fc21d95",
   "metadata": {},
   "outputs": [],
   "source": [
    "def find_step_gain():\n",
    "    next_pos_RR = find_retention_rate(delta_t, n_sum+1, n_pos+1, n_neg, difficulty)\n",
    "    next_neg_RR = find_retention_rate(delta_t, n_sum+1, n_pos, n_neg+1, difficulty)\n",
    "    current_RR = find_retention_rate(delta_t, n_sum, n_pos, n_neg, difficulty)\n",
    "    return 1/2(next_pos_RR+next_neg_RR)-current_RR"
   ]
  },
  {
   "cell_type": "code",
   "execution_count": null,
   "id": "82fa07e0-d792-49df-a764-cf64e0fda54a",
   "metadata": {},
   "outputs": [],
   "source": [
    "class GreedyGainAgent(agent.AbstractEpisodicRecommenderAgent):\n",
    "    \"\"\"Agent for flashcard teaching, recommend falshcard that give max retention rate gain // fully exploit\"\"\"\n",
    "    def __init__(self, action_space, deadline = 1):\n",
    "        \"\"\"Initialize greedy agent that select argmax(gain(i))\n",
    "\n",
    "            Arg:\n",
    "            deadline: time after the last review for user\n",
    "        \"\"\"\n",
    "        super(GreedyGainAgent, self).__init__(action_space)\n",
    "        self._deadline = deadline\n",
    "    def step(self, reward, observation):\n",
    "        \"\"\"calculate gain of each flascard and select maximum one\"\"\"\n",
    "        #calculate gain of each flashcard\n",
    "        difficulty = np.ones(3)\n",
    "        doc_gain = [] #keep gain of each flashcard\n",
    "        for i in range(len(observation['doc'])):\n",
    "            doc_gain.append(find_doc_gain(observation['user']['time'], \n",
    "                                          observation['user']['history'][i], \n",
    "                                          difficulty)) \n",
    "        #find the best\n",
    "        best_flashcard = doc_gain.index(max(doc_gain))\n",
    "        #return best_gain\n",
    "        return best_flashcard\n",
    "    def find_doc_gain(self, current_time, user_history[], card_difficulty[]):\n",
    "        #calculate gain(i) of flashcard\n",
    "        current_RR = find_retention_rate(self._deadline - current_time, \n",
    "                                         user_history[0], \n",
    "                                         user_history[1], \n",
    "                                         user_history[2], \n",
    "                                         card_difficulty[])\n",
    "        next_pos_RR = find_retention_rate(self._deadline - current_time, \n",
    "                                         user_history[0]+1, \n",
    "                                         user_history[1]+1, \n",
    "                                         user_history[2], \n",
    "                                         card_difficulty[])\n",
    "        next_neg_RR = find_retention_rate(self._deadline - current_time, \n",
    "                                         user_history[0]+1, \n",
    "                                         user_history[1], \n",
    "                                         user_history[2]+1, \n",
    "                                         card_difficulty[])\n",
    "        \n",
    "        return 1/2(next_pos_RR+next_neg_RR)-current_RR\n",
    "    def find_retention_rate(self, delta_t, n_sum, n_pos, n_neg, difficulty[]):\n",
    "        #calculate retention rate\n",
    "        return np.exp(-(delta_t)/ np.exp(difficulty[0]*n_sum + difficulty[1]*n_pos + difficulty[2]*n_neg))\n",
    "        "
   ]
  }
 ],
 "metadata": {
  "kernelspec": {
   "display_name": "Python 3 (ipykernel)",
   "language": "python",
   "name": "python3"
  },
  "language_info": {
   "codemirror_mode": {
    "name": "ipython",
    "version": 3
   },
   "file_extension": ".py",
   "mimetype": "text/x-python",
   "name": "python",
   "nbconvert_exporter": "python",
   "pygments_lexer": "ipython3",
   "version": "3.11.6"
  }
 },
 "nbformat": 4,
 "nbformat_minor": 5
}
